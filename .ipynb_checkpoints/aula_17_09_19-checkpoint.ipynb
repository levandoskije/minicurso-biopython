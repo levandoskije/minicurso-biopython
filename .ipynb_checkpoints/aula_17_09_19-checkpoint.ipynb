{
 "cells": [
  {
   "cell_type": "markdown",
   "metadata": {},
   "source": [
    "# Minicurso Introdução à programação em Python 3\n",
    "## Com ênfase em bioinformática\n",
    "### Instrutor: João Eduardo Levandoski - Acadêmico de Engenharia Química\n",
    "### Bolsista CNPq - Brazilian synchrotron light source (LNLS) - IMBUIA Beam Line\n",
    "[Vídeo Ciência Aberta](https://youtu.be/TS-3j783EJo)  \n",
    "[Vídeo controle da luz](https://youtu.be/oZFGuXtiBgo)"
   ]
  },
  {
   "cell_type": "markdown",
   "metadata": {},
   "source": [
    "### Software utilizado\n",
    "#### [Anaconda 3](https://www.anaconda.com/distribution/)\n",
    "#### Versão do pyhton (verificar)\n",
    "```\n",
    "python --version\n",
    "```\n",
    "#### Contagem regressiva do [Python 2](https://pythonclock.org/)\n"
   ]
  },
  {
   "cell_type": "markdown",
   "metadata": {},
   "source": [
    "## Estatísticas:\n",
    "<!--#### [Olhar Digital](https://olhardigital.com.br/noticia/as-10-linguagens-de-programacao-mais-populares-do-mundo-em-2018/74538)-->\n",
    "#### [Dev Media](https://www.devmedia.com.br/top-10-linguagens-de-programacao-mais-usadas-no-mercado/39635)\n",
    "#### [W Tricks](https://wtricks.com.br/linguagens-de-programacao-populares-2018/)\n",
    "#### [PTI](https://www.profissionaisti.com.br/2019/01/7-linguagens-de-programacao-para-voce-aprender-em-2019/)\n",
    "#### [WMC](https://medium.com/womakerscode/top-5-linguagens-para-2019-28df8aee7d10)\n"
   ]
  },
  {
   "cell_type": "markdown",
   "metadata": {},
   "source": [
    "## Instalação de pacotes via [conda](https://anaconda.org/conda-forge/repo)\n",
    "## Instalação de pacotes via [pip](https://pypi.org/)"
   ]
  },
  {
   "cell_type": "markdown",
   "metadata": {},
   "source": [
    "## Princípios\n"
   ]
  },
  {
   "cell_type": "markdown",
   "metadata": {},
   "source": [
    "#### A linguagem foi projetada com a filosofia de enfatizar a importância do esforço do programador sobre o esforço computacional.\n",
    "#### Prioriza a legibilidade do código sobre a velocidade ou expressividade. \n",
    "#### Combina uma sintaxe concisa e clara com os recursos poderosos de sua biblioteca padrão e por módulos e frameworks desenvolvidos por terceiros.\n",
    "#### Liguagem dinâmica de tipagem forte"
   ]
  },
  {
   "cell_type": "code",
   "execution_count": 107,
   "metadata": {},
   "outputs": [],
   "source": [
    "# Exemplo variáveis"
   ]
  },
  {
   "cell_type": "markdown",
   "metadata": {},
   "source": [
    "### Python é provavelmente a linguagem mais usada no mundo por não programadores"
   ]
  },
  {
   "cell_type": "code",
   "execution_count": 108,
   "metadata": {},
   "outputs": [],
   "source": [
    "#The Zen of Python\n",
    "# import this"
   ]
  },
  {
   "cell_type": "markdown",
   "metadata": {},
   "source": [
    "## Zen traduzido interpretação [livre](https://hacktoon.com/log/2015/programming-comics-3/)"
   ]
  },
  {
   "cell_type": "markdown",
   "metadata": {},
   "source": [
    "# Sintaxe básica\n",
    "# Não é preciso declarar variáveis\n",
    "### Tipos de variáveis mais usadas\n",
    "#### str = string\n",
    "#### float = real\n",
    "#### int = inteiro\n",
    "#### complex = números complexos\n",
    "#### bool = True or False\n",
    "#### list = Lista mutáveis [algo, ] \n",
    "#### tuple = \"lista\" imutáveis (algo, )\n",
    "#### set = conjuntos de elementos não repetidos  {algo, algo}\n",
    "#### dict = dicinário chave valor {chave: valor, }"
   ]
  },
  {
   "cell_type": "code",
   "execution_count": 109,
   "metadata": {},
   "outputs": [],
   "source": [
    "# Exemplo de list, dic, tuple, set"
   ]
  },
  {
   "cell_type": "markdown",
   "metadata": {},
   "source": [
    "## Saída\n",
    "\n",
    "### print()\n",
    "\n",
    "## Entrada\n",
    "\n",
    "### input()"
   ]
  },
  {
   "cell_type": "code",
   "execution_count": 110,
   "metadata": {},
   "outputs": [],
   "source": [
    "# Exemplo Saída"
   ]
  },
  {
   "cell_type": "code",
   "execution_count": 111,
   "metadata": {},
   "outputs": [],
   "source": [
    "# Exemplo entrada str, int, float"
   ]
  },
  {
   "cell_type": "markdown",
   "metadata": {},
   "source": [
    "# Estruturas de controle"
   ]
  },
  {
   "cell_type": "markdown",
   "metadata": {},
   "source": [
    "## Condicionais e estruturas de repetição\n",
    "### if\n",
    "### while\n",
    "### for\n",
    "\n",
    "## Operadores\n",
    "\n",
    "### + Soma ou Concatenação\n",
    "### - Subtração\n",
    "### * Multiplicação\n",
    "### / Divisão\n",
    "### // Divisão de inteiros \n",
    "### ** Exponenciação\n",
    "### % Módulo da divisão de inteiros (resto)\n",
    "### = Atribuição, coloca o resultado da expressão a direita na identicação (variável) a esquerda"
   ]
  },
  {
   "cell_type": "code",
   "execution_count": 112,
   "metadata": {},
   "outputs": [],
   "source": [
    "# Exemplo de condicional, pode ser ver se o número é maior ou menor"
   ]
  },
  {
   "cell_type": "code",
   "execution_count": 113,
   "metadata": {},
   "outputs": [],
   "source": [
    "# Exemplo de for com algum range()"
   ]
  },
  {
   "cell_type": "code",
   "execution_count": 114,
   "metadata": {},
   "outputs": [],
   "source": [
    "# Exemplo de while com um True e esperando um número do usuário, var.isnumeric "
   ]
  },
  {
   "cell_type": "markdown",
   "metadata": {},
   "source": [
    "## Curiosidades\n",
    "### [Nome](https://youtu.be/Owxt5TUJKVA)\n",
    "<!--### [Ponto e vírgula](https://scontent.fbfh3-1.fna.fbcdn.net/v/t1.0-9/49046413_749801262052982_2383082451229474816_n.jpg?_nc_cat=100&_nc_oc=AQk8dF19xQyxZTbALVxdTs72fJafnV-Te0Agu2zibsL3dUWKxrs31n40oexrI5ztBTk&_nc_ht=scontent.fbfh3-1.fna&oh=3b8cabbaabe965519ca710e005bd5ea7&oe=5D87C936)-->\n",
    "### [C --> Python](https://scontent.fbfh3-2.fna.fbcdn.net/v/t1.0-9/61905486_2285562288373500_4149813872594780160_n.jpg?_nc_cat=108&_nc_oc=AQnRW_5uDGTkqRmwQBS6JM423GlhS7D0lLXKWSSXNtVFTsvdMKiLHFVfsuH9QyJhmpo&_nc_ht=scontent.fbfh3-2.fna&oh=b353abe1ab80e159461fdc8464861a8c&oe=5D9852F1)"
   ]
  },
  {
   "cell_type": "markdown",
   "metadata": {},
   "source": [
    "# Bioinformática"
   ]
  },
  {
   "cell_type": "markdown",
   "metadata": {},
   "source": [
    "### Módulos para uso em biologia\n",
    "Além das funções básicas do Python, podemos importar módulos com funções  \n",
    "Módulos pelo **gerenciador de pacotes do Python** ```pip install <nome_pacote>```  \n",
    "Link para os pacotes open source [PyPi](https://pypi.org/)  \n",
    "Módulos pelo **conda** ```conda install <options> <nome do pacote>```   \n",
    "Link para os pacotes open source [conda](https://anaconda.org/conda-forge/repo)  \n",
    "Módulos pelo anaconda **Environments**"
   ]
  },
  {
   "cell_type": "markdown",
   "metadata": {},
   "source": [
    "### Importando Biopython via _Environments_\n",
    "O [Biopython](http://biopython.org/DIST/docs/tutorial/Tutorial.html) é um pacote de funções em Python dedicado à Bioinformática.  \n",
    "Ele tem ferramentas ideais para lidar com sequências de DNA, RNA e proteínas,  \n",
    "além de poder rodar algoritmos importantes como BLAST.\n"
   ]
  },
  {
   "cell_type": "code",
   "execution_count": 115,
   "metadata": {},
   "outputs": [],
   "source": [
    "from Bio.Seq import Seq"
   ]
  },
  {
   "cell_type": "code",
   "execution_count": 116,
   "metadata": {},
   "outputs": [],
   "source": [
    "# minha_seq = Seq('AGTCGATCCGAT')"
   ]
  },
  {
   "cell_type": "code",
   "execution_count": 117,
   "metadata": {},
   "outputs": [],
   "source": [
    "# minha_seq"
   ]
  },
  {
   "cell_type": "code",
   "execution_count": 118,
   "metadata": {},
   "outputs": [],
   "source": [
    "# from Bio.Alphabet import generic_dna\n",
    "## generic_rna\n",
    "## generic_protein"
   ]
  },
  {
   "cell_type": "code",
   "execution_count": 119,
   "metadata": {},
   "outputs": [],
   "source": [
    "# minha_seq = Seq('AGTCGATCCGAT', generic_dna)"
   ]
  },
  {
   "cell_type": "code",
   "execution_count": 120,
   "metadata": {},
   "outputs": [],
   "source": [
    "# minha_seq.find('AA')\n",
    "## retorna o indice de onde está a seq\n",
    "## -1 caso contrário"
   ]
  },
  {
   "cell_type": "code",
   "execution_count": 121,
   "metadata": {},
   "outputs": [],
   "source": [
    "# minha_seq.count('A')\n",
    "## minha_seq.count('ATG')"
   ]
  },
  {
   "cell_type": "code",
   "execution_count": 122,
   "metadata": {},
   "outputs": [],
   "source": [
    "# minha_seq.complement()"
   ]
  },
  {
   "cell_type": "code",
   "execution_count": 123,
   "metadata": {},
   "outputs": [],
   "source": [
    "# minha_seq.reverse_complement()"
   ]
  },
  {
   "cell_type": "code",
   "execution_count": 124,
   "metadata": {},
   "outputs": [],
   "source": [
    "# minha_seq.transcribe()"
   ]
  },
  {
   "cell_type": "code",
   "execution_count": 125,
   "metadata": {},
   "outputs": [],
   "source": [
    "# trad1 = minha_seq.translate()\n",
    "# trad1\n"
   ]
  },
  {
   "cell_type": "code",
   "execution_count": 126,
   "metadata": {},
   "outputs": [],
   "source": [
    "# rna = minha_seq.transcribe()\n",
    "# trad2 = rna.translate()\n",
    "# trad2"
   ]
  },
  {
   "cell_type": "code",
   "execution_count": 127,
   "metadata": {},
   "outputs": [],
   "source": [
    "# print(minha_seq[2:])"
   ]
  },
  {
   "cell_type": "code",
   "execution_count": 128,
   "metadata": {},
   "outputs": [],
   "source": [
    "# nrl = '''AACCGCCCCACGCGAGACCACCCACCAGCCAGGAGCGGTCGCAGGACCCGCAGCGGCGCGAGGCCTTGTT\n",
    "# TACACCGACTGCCGCCACTGCGTTGGCCAACCGCTCCTCCGTCACGCGCTTCGCTCGTCACGCATCTCGC\n",
    "# GGCTTCCTGGCCGGCGGGCTGCAAACGTCACACGACGGCCCCGCCCCCTTGGCCAGCCAACTGGACAGCG\n",
    "# GAGCACGATGATTGATAGGCCAATAAGATATGCAAATGATCTCCTTACCTTATTGGTTGGAGGCCTCAGG\n",
    "# ACCACAGATGACCTCAGAGAGCTGGCCCTTTAAGAATGCCCTTTGGGCTCTGTGCCCACAGCCCCCTGGA\n",
    "# GCTGAGCAGAGGCACCAGGCCCTGCTCCATGGAGCCTTCAGTCTCCTGGGAAGCTGTGCCTGTCTGGCTC\n",
    "# TGGCACTGACCACATCCTCTCGGCCATTTCTGAAGTGCACTCCTCCCAGCCCAGCTCCAGAATGGCCCTG\n",
    "# CCCCCCAGCCCCCTGGCCATGGAATATGTCAATGACTTTGACTTGATGAAGTTTGAGGTAAAGCGGGAAC\n",
    "# CCTCTGAGGGCCGACCTGGCCCCCCTACAGCCTCACTGGGCTCCACACCTTACAGCTCAGTGCCTCCTTC\n",
    "# ACCCACCTTCAGTGAACCAGGCATGGTGGGGGCAACCGAGGGCACCCGGCCAGGCCTGGAGGAGCTGTAC\n",
    "# TGGCTGGCTACCCTGCAGCAGCAGCTGGGGGCTGGGGAGGCATTGGGGCTGAGTCCTGAAGAGGCCATGG\n",
    "# AGCTGCTGCAGGGTCAGGGCCCAGTCCCTGTTGATGGGCCCCATGGCTACTACCCAGGGAGCCCAGAGGA\n",
    "# GACAGGAGCCCAGCACGTCCAGCTGGCAGAGCGGTTTTCCGACGCGGCGCTGGTCTCGATGTCTGTGCGG\n",
    "# GAGCTAAACCGGCAGCTGCGGGGCTGCGGGCGCGACGAGGCGCTGCGGCTGAAGCAGAGGCGCCGCACGC\n",
    "# TGAAGAACCGCGGCTACGCGCAGGCCTGTCGCTCCAAGCGGCTGCAGCAGCGGCGCGGGCTGGAGGCCGA\n",
    "# GCGCGCCCGCCTGGCCGCCCAGCTGGACGCGCTGCGGGCCGAGGTGGCCCGCCTGGCCCGGGAGCGCGAT\n",
    "# CTCTACAAGGCTCGCTGTGACCGGCTAACCTCGAGCGGCCCCGGGTCCGGGGACCCCTCCCACCTCTTCC\n",
    "# TCTGAGCCGTTCAGAGCACCTTGTGGTGTAGTGGGGGCTGGGTGGGGTGGCTCCGCCCAGGAGGCGGCTG\n",
    "# CACGGTTCTCTGCATCGTTACCAGAGCGCCTTCTGGTCCTAGCCACGCCCTGTATGACCGCGCAAATATC\n",
    "# CCCAAAGCTTTTGGGTCCTCAAGTCATGCCCGAATTTAGATGCTGGTCATTTTCTGGAGAGGGGTCCCCT\n",
    "# CCCCTTACGAACACAGAAACCCAGCCCACATGACTAGCACGCTGAGCTCTGCAGGGACCAGTGCCAGGCA\n",
    "# CTGGGGGGTGGAAGTGTGGTGACACAGTGAATGGGAGGTGGAGGAGGGTTGCAGCTCCCACCTCAGTTTA\n",
    "# GTTTTTAATTCAGGGTTTTCAACCTGTAACACATTAAAGCTGTAATTAGCAATGAGGCTGTATTTTCATT\n",
    "# CTGAAGCTTGTAACCTCCCCATTTTAGCACTACAGAATTTTCAAGATTTCAATATCCAACAACTAGATAG\n",
    "# ATTAGGACCTCTATCCGAGATGCTTTTTCCCTGCCCAACCCTGTGGCCTTCAGGGCTCAGAGCAGCAAAG\n",
    "# GCCTGAAGAGTGAGCTCTGGGGGTTGTTGGTGTGGGTTGGGAGAGAGCTGTGTGCAGAAGTCTGGAAACC\n",
    "# TGGGTCCTAGTCCCAGCTCTTCCATGGGATCCCCCTGTCACCCTGAGCAAATCAGTTGCTTCCTGGACTT\n",
    "# GTGTTACTTCATCTAATTCTCATGTGGATTGGACGACTTCTGCTCCCTTTCCAGTTCTGGCATCTCCCCA\n",
    "# GTATGGAAGTCCCGGTGGTCTCCCCAAGAAGTCCCCAAGACAATCTCGCCAAAGGCACCTCCTATCCTGC\n",
    "# TGCAGTTTCCCAGCTGCAGCCTAGGCAGGGGATGCACAGCCCAGGCGAGGAAGCCTGGCTTCTCTGTGAG\n",
    "# CACATACGTGGGTCCTCGGCAGCTCCCTCCAGGCTGTCTGGGCCTCCAGACCTGCACAGGGTGCTCCTGC\n",
    "# CACCTCCCACCTCTCTGAGGGCTGAGGTGAGACTTCTCCTGGGATGACAATTTGCTGAGAGAGTGCAGCT\n",
    "# TTTGTGAATTAAACTTGAAGTCCAGGCAGAATTCTAATGCAATAAGCTAAATGTTCTTGCAATTTAAGAA\n",
    "# GTGTTCATTCTTTATCCCTGCTTCAGGCTACTGTTTGTGTGTCTGTGTGTGGGAGAGGGAGAGAGAGGGA\n",
    "# GAGAGAGAGAGAGCAAGAAAAAGGGAAGTCCCCACCTGGAGCTGGGTGGCACATCTGTTATGGAGAGCCA\n",
    "# ATGGAAATGGGGTGGAGGGGCAGGCATTGGAACAGATGGATCCTCCCCCTCTCACCACCACCACCACCAA\n",
    "# ACTCAGAAGCCTCAGTGGCCCAGCTCGGCCTGTCAGTGGCTATCCAGGTCTCACAGTTTCCATGGTAACC\n",
    "# CAGTCCTCCAGTTCAGCAGGCTAAGGGGAGGGCAGATGGGGCCTCTGGGCAGAGCACAGGCGTTGTGCTG\n",
    "# GGAGCAGCCGCCTCACGAGTTACTGTCATCTGTCCTCTACCGGACATAATAAATGGGAGAAGCTTTCGGG\n",
    "# CATGGGGGAAGAGGCTCCCATATGTCCCTCTTCCTTTCTACCCCCTCTCTCCACCCCCTCCCCAGCTGTC\n",
    "# TCTTCTCTTCCCATCACAGTTCTTGCTCCCTCTTTCCCCTCCTCTATCCCAGCTCATCCCTCCTCCGCTT\n",
    "# AGGAGCCTGCAATGGGAGTCCTCTCCTCCATCGCTCTCAGAATTTCTCTCGTCTCCTCTCCCTTCCCCAC\n",
    "# CATTGGCCACTGGCCATCCTCTCTGGCTCTGGATTCTCTCTCTGAGGGGCTCACAGAACCTTTAGCTTCT\n",
    "# CTTTCTTCATCCCCTTCCACACTCATTGTTGAAGGGAGAGGATGGGGCAGGGAGGGTCCTTCCGGGAGCC\n",
    "# CAGCTCTTTTTCTCTCACTCTAAATTTCACCTGTGTCTATCCTTGCCTGCCCTGGAGCTGTAATTCAGAC\n",
    "# CCACTACTTTTCTTGTTCACTTTTCTCACCTGCATGGCACACAAAGACAGACAGAACCATCCATAGACAC\n",
    "# CTGAGCACACAACTAGGCCACATATACAGTACCATACCTGGGTCTCAAAATGATACTCCTGGGTTACCTG\n",
    "# AGTATACTTAAAAAAACAAAGTTGCACACTGTGGTGATTAAGAGTAGTGCTTTAGGTGGGGCGCAGTGGT\n",
    "# TCCTGCCTGTAATCCCAACACTTTGGGAGGCCAAGGAGGAAGTTTGAGACCAGCCTGGGCAACATAGCGA\n",
    "# GAACCCTGTCACTACAAAAAAATAAAATAAAATAAATTCAGATGTAATGGCATGCACCTGGAGTCCCACC\n",
    "# TACCCAGGAGGCTAAGGTGGAAGGATAACTTGAGCCCAGGAGTTCGGGGATGCAGTGAGCCATAATCGTG\n",
    "# CCACTGCATTCCAGCCTGGGTGGCAGAGTGAGACCCTGTTTCAAGTTGCAGTTCTACCAGTTTTTTGACC\n",
    "# ATGGGTGGGTTAAAATCAAGCCTCACTTGATTGTCAGAAAAATGGTGAAAATAATGGTAACCACCTACTG\n",
    "# AGAATAAATGCATTTAAATAA'''"
   ]
  },
  {
   "cell_type": "code",
   "execution_count": 129,
   "metadata": {},
   "outputs": [],
   "source": [
    "# nrl"
   ]
  },
  {
   "cell_type": "code",
   "execution_count": 130,
   "metadata": {},
   "outputs": [],
   "source": [
    "# j0k = 'dados/3j0k.fasta.txt'\n",
    "# ore = 'dados/1ore.fasta.txt'\n",
    "# nrl = 'dados/NM_006177.5.fasta'\n",
    "# arq = open(nrl, mode='r')\n",
    "# dados = arq.read().splitlines()\n",
    "# dados = arq.read()\n",
    "# dados"
   ]
  },
  {
   "cell_type": "code",
   "execution_count": 131,
   "metadata": {},
   "outputs": [],
   "source": [
    "# from Bio import Entrez\n",
    "## Entrez.email = \"A.N.Other@example.com\"  # Always tell NCBI who you are\n",
    "# handle = Entrez.efetch(db=\"nucleotide\", id=\"EU490717\", rettype=\"gb\", retmode=\"text\")\n",
    "# print(handle.read())"
   ]
  },
  {
   "cell_type": "code",
   "execution_count": 132,
   "metadata": {},
   "outputs": [],
   "source": [
    "# from Bio.Seq import Seq\n",
    "# from Bio import motifs\n",
    "# instances = [Seq(\"TTGCA\"),\n",
    "#              Seq(\"TACGC\"),\n",
    "#              Seq(\"TACAC\"),\n",
    "#              Seq(\"TACCC\"),\n",
    "#              Seq(\"AACCC\"),\n",
    "#              Seq(\"AATGC\"),\n",
    "#              Seq(\"AATGC\")]\n",
    "# m = motifs.create(instances)\n",
    "# print(m.counts)"
   ]
  }
 ],
 "metadata": {
  "kernelspec": {
   "display_name": "Python 3",
   "language": "python",
   "name": "python3"
  },
  "language_info": {
   "codemirror_mode": {
    "name": "ipython",
    "version": 3
   },
   "file_extension": ".py",
   "mimetype": "text/x-python",
   "name": "python",
   "nbconvert_exporter": "python",
   "pygments_lexer": "ipython3",
   "version": "3.7.3"
  }
 },
 "nbformat": 4,
 "nbformat_minor": 4
}
