{
 "cells": [
  {
   "cell_type": "markdown",
   "metadata": {},
   "source": [
    "# Minicurso Introdução à programação em Python 3\n",
    "## Com ênfase em bioinformática\n",
    "### Instrutor: João Eduardo Levandoski - Acadêmico de Engenharia Química\n",
    "### Bolsista CNPq - Brazilian synchrotron light source (LNLS) - IMBUIA Beam Line\n",
    "[Vídeo Ciência Aberta](https://youtu.be/TS-3j783EJo)  \n",
    "[Vídeo controle da luz](https://youtu.be/oZFGuXtiBgo)"
   ]
  },
  {
   "cell_type": "markdown",
   "metadata": {},
   "source": [
    "### Software utilizado\n",
    "#### [Anaconda 3](https://www.anaconda.com/distribution/)\n",
    "#### Versão do pyhton (verificar)\n",
    "```\n",
    "python --version\n",
    "```\n",
    "#### Contagem regressiva do [Python 2](https://pythonclock.org/)\n"
   ]
  },
  {
   "cell_type": "markdown",
   "metadata": {},
   "source": [
    "## Estatísticas:\n",
    "<!--#### [Olhar Digital](https://olhardigital.com.br/noticia/as-10-linguagens-de-programacao-mais-populares-do-mundo-em-2018/74538)-->\n",
    "#### [Dev Media](https://www.devmedia.com.br/top-10-linguagens-de-programacao-mais-usadas-no-mercado/39635)\n",
    "#### [W Tricks](https://wtricks.com.br/linguagens-de-programacao-populares-2018/)\n",
    "#### [PTI](https://www.profissionaisti.com.br/2019/01/7-linguagens-de-programacao-para-voce-aprender-em-2019/)\n",
    "#### [WMC](https://medium.com/womakerscode/top-5-linguagens-para-2019-28df8aee7d10)\n"
   ]
  },
  {
   "cell_type": "markdown",
   "metadata": {},
   "source": [
    "## Instalação de pacotes via [conda](https://anaconda.org/conda-forge/repo)\n",
    "## Instalação de pacotes via [pip](https://pypi.org/)"
   ]
  },
  {
   "cell_type": "markdown",
   "metadata": {},
   "source": [
    "## Princípios\n"
   ]
  },
  {
   "cell_type": "markdown",
   "metadata": {},
   "source": [
    "#### A linguagem foi projetada com a filosofia de enfatizar a importância do esforço do programador sobre o esforço computacional.\n",
    "#### Prioriza a legibilidade do código sobre a velocidade ou expressividade. \n",
    "#### Combina uma sintaxe concisa e clara com os recursos poderosos de sua biblioteca padrão e por módulos e frameworks desenvolvidos por terceiros.\n",
    "#### Liguagem dinâmica de tipagem forte"
   ]
  },
  {
   "cell_type": "code",
   "execution_count": 9,
   "metadata": {},
   "outputs": [
    {
     "data": {
      "text/plain": [
       "float"
      ]
     },
     "execution_count": 9,
     "metadata": {},
     "output_type": "execute_result"
    }
   ],
   "source": [
    "# Exemplo variáveis\n",
    "\n",
    "a = '5'\n",
    "b = 8.0\n",
    "# a + b\n",
    "type(b)"
   ]
  },
  {
   "cell_type": "markdown",
   "metadata": {},
   "source": [
    "### Python é provavelmente a linguagem mais usada no mundo por não programadores"
   ]
  },
  {
   "cell_type": "code",
   "execution_count": 108,
   "metadata": {},
   "outputs": [],
   "source": [
    "#The Zen of Python\n",
    "# import this"
   ]
  },
  {
   "cell_type": "markdown",
   "metadata": {},
   "source": [
    "## Zen traduzido interpretação [livre](https://hacktoon.com/log/2015/programming-comics-3/)"
   ]
  },
  {
   "cell_type": "markdown",
   "metadata": {},
   "source": [
    "# Sintaxe básica\n",
    "# Não é preciso declarar variáveis\n",
    "### Tipos de variáveis mais usadas\n",
    "#### str = string\n",
    "#### float = real\n",
    "#### int = inteiro\n",
    "#### complex = números complexos\n",
    "#### bool = True or False\n",
    "#### list = Lista mutáveis [algo, algo1, algo2] \n",
    "#### tuple = \"lista\" imutáveis (algo, )\n",
    "#### set = conjuntos de elementos não repetidos  {algo, algo}\n",
    "#### dict = dicinário chave valor {chave: valor, }"
   ]
  },
  {
   "cell_type": "code",
   "execution_count": 22,
   "metadata": {},
   "outputs": [],
   "source": [
    "# Exemplo de list, dic, tuple, set\n",
    "jose = 5\n",
    "lista = ['3', jose, 'ca', '5.6']\n",
    "lista[1] = 6\n",
    "tupla = ('3', jose, 'ca', '5.6')\n",
    "# tupla[1] = 6"
   ]
  },
  {
   "cell_type": "markdown",
   "metadata": {},
   "source": [
    "## Saída\n",
    "\n",
    "### print()\n",
    "\n",
    "## Entrada\n",
    "\n",
    "### input()"
   ]
  },
  {
   "cell_type": "code",
   "execution_count": 30,
   "metadata": {},
   "outputs": [
    {
     "name": "stdout",
     "output_type": "stream",
     "text": [
      "Meu nome é: ana maria\n"
     ]
    }
   ],
   "source": [
    "# Exemplo Saída\n",
    "a = 'ana'\n",
    "b = 'maria'\n",
    "print(f'Meu nome é: {a} {b} ')\n",
    "# print('Meu nome é: {} {}'.format(a, b))"
   ]
  },
  {
   "cell_type": "code",
   "execution_count": 37,
   "metadata": {},
   "outputs": [
    {
     "name": "stdout",
     "output_type": "stream",
     "text": [
      "Digite um número: 5\n",
      "Digite outro número: 10\n",
      "A soma é: 15.0\n"
     ]
    }
   ],
   "source": [
    "# Exemplo entrada str, int, float\n",
    "variavel1 = int(input('Digite um número: '))\n",
    "variavel2 = float(input('Digite outro número: '))\n",
    "\n",
    "soma = variavel1 + variavel2 \n",
    "print(f'A soma é: {soma}')"
   ]
  },
  {
   "cell_type": "markdown",
   "metadata": {},
   "source": [
    "# Estruturas de controle"
   ]
  },
  {
   "cell_type": "markdown",
   "metadata": {},
   "source": [
    "## Condicionais e estruturas de repetição\n",
    "### if\n",
    "### while\n",
    "### for\n",
    "\n",
    "## Operadores\n",
    "\n",
    "### + Soma ou Concatenação\n",
    "### - Subtração\n",
    "### * Multiplicação\n",
    "### / Divisão\n",
    "### // Divisão de inteiros \n",
    "### ** Exponenciação\n",
    "### % Módulo da divisão de inteiros (resto)\n",
    "### = Atribuição, coloca o resultado da expressão a direita na identicação (variável) a esquerda"
   ]
  },
  {
   "cell_type": "code",
   "execution_count": 51,
   "metadata": {},
   "outputs": [
    {
     "name": "stdout",
     "output_type": "stream",
     "text": [
      "Digite o primeiro valor: 11\n",
      "11 é maior que 10\n",
      "11 é impar\n"
     ]
    }
   ],
   "source": [
    "# Exemplo de condicional, pode ser ver se o número é maior ou menor\n",
    "v1 = int(input('Digite o primeiro valor: '))\n",
    "# v2 = int(input('Digite o segundo valor: '))\n",
    "if v1 > 10:\n",
    "    print(f'{v1} é maior que 10')\n",
    "    if v1%2 ==0:\n",
    "        print(f'{v1} é par')\n",
    "    else:\n",
    "        print(f'{v1} é impar')\n",
    "        \n",
    "elif v1 == 10:\n",
    "    print(f'{v1} é igual a 10')\n",
    "else:\n",
    "    print(f'{v1} é menor que 10')"
   ]
  },
  {
   "cell_type": "code",
   "execution_count": 50,
   "metadata": {},
   "outputs": [
    {
     "name": "stdout",
     "output_type": "stream",
     "text": [
      "22 é par\n"
     ]
    }
   ],
   "source": [
    "a = 22\n",
    "if a%2 ==0:\n",
    "    if\n",
    "    print(f'{a} é par')\n",
    "else:\n",
    "    \n",
    "    print(f'{a} é impar')"
   ]
  },
  {
   "cell_type": "code",
   "execution_count": 55,
   "metadata": {},
   "outputs": [
    {
     "name": "stdout",
     "output_type": "stream",
     "text": [
      "ola\n",
      "0\n",
      "ola\n",
      "1\n",
      "ola\n",
      "2\n",
      "ola\n",
      "3\n",
      "ola\n",
      "4\n",
      "ola\n",
      "5\n",
      "ola\n",
      "6\n",
      "ola\n",
      "7\n",
      "ola\n",
      "8\n",
      "ola\n",
      "9\n"
     ]
    }
   ],
   "source": [
    "# Exemplo de for com algum range()\n",
    "for i in range(10):\n",
    "    print('ola')\n",
    "    print(i)"
   ]
  },
  {
   "cell_type": "code",
   "execution_count": 53,
   "metadata": {},
   "outputs": [
    {
     "data": {
      "text/plain": [
       "range(0, 10)"
      ]
     },
     "execution_count": 53,
     "metadata": {},
     "output_type": "execute_result"
    }
   ],
   "source": [
    "range(10)"
   ]
  },
  {
   "cell_type": "code",
   "execution_count": 56,
   "metadata": {},
   "outputs": [
    {
     "name": "stdout",
     "output_type": "stream",
     "text": [
      "Digite um valor: l\n",
      "Digite um valor: o\n",
      "Digite um valor: kgdgkkj\n",
      "Digite um valor: 5\n"
     ]
    }
   ],
   "source": [
    "# Exemplo de while com um True e esperando um número do usuário, var.isnumeric \n",
    "var = ''\n",
    "while not var.isnumeric():\n",
    "    var = input('Digite um valor: ')\n"
   ]
  },
  {
   "cell_type": "markdown",
   "metadata": {},
   "source": [
    "## Curiosidades\n",
    "### [Nome](https://youtu.be/Owxt5TUJKVA)\n",
    "<!--### [Ponto e vírgula](https://scontent.fbfh3-1.fna.fbcdn.net/v/t1.0-9/49046413_749801262052982_2383082451229474816_n.jpg?_nc_cat=100&_nc_oc=AQk8dF19xQyxZTbALVxdTs72fJafnV-Te0Agu2zibsL3dUWKxrs31n40oexrI5ztBTk&_nc_ht=scontent.fbfh3-1.fna&oh=3b8cabbaabe965519ca710e005bd5ea7&oe=5D87C936)-->\n",
    "### [C --> Python](https://scontent.fbfh3-2.fna.fbcdn.net/v/t1.0-9/61905486_2285562288373500_4149813872594780160_n.jpg?_nc_cat=108&_nc_oc=AQnRW_5uDGTkqRmwQBS6JM423GlhS7D0lLXKWSSXNtVFTsvdMKiLHFVfsuH9QyJhmpo&_nc_ht=scontent.fbfh3-2.fna&oh=b353abe1ab80e159461fdc8464861a8c&oe=5D9852F1)"
   ]
  },
  {
   "cell_type": "markdown",
   "metadata": {},
   "source": [
    "# Bioinformática"
   ]
  },
  {
   "cell_type": "markdown",
   "metadata": {},
   "source": [
    "### Módulos para uso em biologia\n",
    "Além das funções básicas do Python, podemos importar módulos com funções  \n",
    "Módulos pelo **gerenciador de pacotes do Python** ```pip install <nome_pacote>```  \n",
    "Link para os pacotes open source [PyPi](https://pypi.org/)  \n",
    "Módulos pelo **conda** ```conda install <options> <nome do pacote>```   \n",
    "Link para os pacotes open source [conda](https://anaconda.org/conda-forge/repo)  \n",
    "Módulos pelo anaconda **Environments**"
   ]
  },
  {
   "cell_type": "markdown",
   "metadata": {},
   "source": [
    "### Importando Biopython via _Environments_\n",
    "O [Biopython](http://biopython.org/DIST/docs/tutorial/Tutorial.html) é um pacote de funções em Python dedicado à Bioinformática.  \n",
    "Ele tem ferramentas ideais para lidar com sequências de DNA, RNA e proteínas,  \n",
    "além de poder rodar algoritmos importantes como BLAST.\n"
   ]
  },
  {
   "cell_type": "code",
   "execution_count": 61,
   "metadata": {},
   "outputs": [],
   "source": [
    "# import Bio"
   ]
  },
  {
   "cell_type": "code",
   "execution_count": 62,
   "metadata": {},
   "outputs": [],
   "source": [
    "# dir(Bio)"
   ]
  },
  {
   "cell_type": "code",
   "execution_count": 63,
   "metadata": {},
   "outputs": [],
   "source": [
    "from Bio.Seq import Seq"
   ]
  },
  {
   "cell_type": "code",
   "execution_count": 64,
   "metadata": {},
   "outputs": [],
   "source": [
    "minha_seq = Seq('AGTCGATCCGAT')"
   ]
  },
  {
   "cell_type": "code",
   "execution_count": 65,
   "metadata": {},
   "outputs": [
    {
     "data": {
      "text/plain": [
       "Seq('AGTCGATCCGAT')"
      ]
     },
     "execution_count": 65,
     "metadata": {},
     "output_type": "execute_result"
    }
   ],
   "source": [
    "minha_seq"
   ]
  },
  {
   "cell_type": "code",
   "execution_count": 66,
   "metadata": {},
   "outputs": [],
   "source": [
    "from Bio.Alphabet import generic_dna\n",
    "# generic_rna\n",
    "# generic_protein"
   ]
  },
  {
   "cell_type": "code",
   "execution_count": 67,
   "metadata": {},
   "outputs": [],
   "source": [
    "minha_seq = Seq('AGTCGATCCGAT', generic_dna)"
   ]
  },
  {
   "cell_type": "code",
   "execution_count": 71,
   "metadata": {},
   "outputs": [
    {
     "data": {
      "text/plain": [
       "5"
      ]
     },
     "execution_count": 71,
     "metadata": {},
     "output_type": "execute_result"
    }
   ],
   "source": [
    "prot = 'AT'\n",
    "minha_seq.find(prot)"
   ]
  },
  {
   "cell_type": "code",
   "execution_count": 120,
   "metadata": {},
   "outputs": [],
   "source": [
    "# minha_seq.find('AA')\n",
    "## retorna o indice de onde está a seq\n",
    "## -1 caso contrário"
   ]
  },
  {
   "cell_type": "code",
   "execution_count": 73,
   "metadata": {},
   "outputs": [
    {
     "data": {
      "text/plain": [
       "2"
      ]
     },
     "execution_count": 73,
     "metadata": {},
     "output_type": "execute_result"
    }
   ],
   "source": [
    "minha_seq.count(prot)"
   ]
  },
  {
   "cell_type": "code",
   "execution_count": 78,
   "metadata": {},
   "outputs": [
    {
     "data": {
      "text/plain": [
       "Seq('AGTCGATCCGAT', DNAAlphabet())"
      ]
     },
     "execution_count": 78,
     "metadata": {},
     "output_type": "execute_result"
    }
   ],
   "source": [
    "# minha_seq.count('A')\n",
    "## minha_seq.count('ATG')\n",
    "m"
   ]
  },
  {
   "cell_type": "code",
   "execution_count": 76,
   "metadata": {},
   "outputs": [
    {
     "name": "stdout",
     "output_type": "stream",
     "text": [
      "AGTCGATCCGAT\n",
      "TCAGCTAGGCTA\n",
      "ATCGGATCGACT\n"
     ]
    }
   ],
   "source": [
    "m = minha_seq\n",
    "print(m)\n",
    "print(m.complement())\n",
    "print(m.reverse_complement())"
   ]
  },
  {
   "cell_type": "code",
   "execution_count": 122,
   "metadata": {},
   "outputs": [],
   "source": [
    "# minha_seq.complement()"
   ]
  },
  {
   "cell_type": "code",
   "execution_count": 123,
   "metadata": {},
   "outputs": [],
   "source": [
    "# minha_seq.reverse_complement()"
   ]
  },
  {
   "cell_type": "code",
   "execution_count": 77,
   "metadata": {},
   "outputs": [
    {
     "data": {
      "text/plain": [
       "Seq('AGUCGAUCCGAU', RNAAlphabet())"
      ]
     },
     "execution_count": 77,
     "metadata": {},
     "output_type": "execute_result"
    }
   ],
   "source": [
    "m.transcribe()"
   ]
  },
  {
   "cell_type": "code",
   "execution_count": 124,
   "metadata": {},
   "outputs": [],
   "source": [
    "# minha_seq.transcribe()"
   ]
  },
  {
   "cell_type": "code",
   "execution_count": 80,
   "metadata": {},
   "outputs": [
    {
     "data": {
      "text/plain": [
       "Seq('SRSD', ExtendedIUPACProtein())"
      ]
     },
     "execution_count": 80,
     "metadata": {},
     "output_type": "execute_result"
    }
   ],
   "source": [
    "trad1 = minha_seq.translate()\n",
    "trad1\n"
   ]
  },
  {
   "cell_type": "code",
   "execution_count": 79,
   "metadata": {},
   "outputs": [
    {
     "data": {
      "text/plain": [
       "Seq('SRSD', ExtendedIUPACProtein())"
      ]
     },
     "execution_count": 79,
     "metadata": {},
     "output_type": "execute_result"
    }
   ],
   "source": [
    "rna = minha_seq.transcribe()\n",
    "trad2 = rna.translate()\n",
    "trad2"
   ]
  },
  {
   "cell_type": "code",
   "execution_count": 107,
   "metadata": {},
   "outputs": [
    {
     "name": "stdout",
     "output_type": "stream",
     "text": [
      "0123456789\n",
      "AGTCGATCCGAT\n",
      "0\n",
      "5\n"
     ]
    }
   ],
   "source": [
    "seq = 'A'\n",
    "print('0123456789')\n",
    "print(minha_seq)\n",
    "print(minha_seq.find(seq))\n",
    "local = minha_seq.find(seq)\n",
    "nlocal = minha_seq[local+1:].find(seq)\n",
    "print((local + 1) + nlocal)\n",
    "# minha_seq[local+1:]"
   ]
  },
  {
   "cell_type": "code",
   "execution_count": 111,
   "metadata": {},
   "outputs": [
    {
     "name": "stdout",
     "output_type": "stream",
     "text": [
      "ola\n",
      "pessoas\n"
     ]
    }
   ],
   "source": [
    "print('ola\\npessoas')"
   ]
  },
  {
   "cell_type": "code",
   "execution_count": 134,
   "metadata": {},
   "outputs": [],
   "source": [
    "nrl = '''AACCGCCCCACGCGAGACCACCCACCAGCCAGGAGCGGTCGCAGGACCCGCAGCGGCGCGAGGCCTTGTT\n",
    "TACACCGACTGCCGCCACTGCGTTGGCCAACCGCTCCTCCGTCACGCGCTTCGCTCGTCACGCATCTCGC\n",
    "GGCTTCCTGGCCGGCGGGCTGCAAACGTCACACGACGGCCCCGCCCCCTTGGCCAGCCAACTGGACAGCG\n",
    "GAGCACGATGATTGATAGGCCAATAAGATATGCAAATGATCTCCTTACCTTATTGGTTGGAGGCCTCAGG\n",
    "ACCACAGATGACCTCAGAGAGCTGGCCCTTTAAGAATGCCCTTTGGGCTCTGTGCCCACAGCCCCCTGGA\n",
    "GCTGAGCAGAGGCACCAGGCCCTGCTCCATGGAGCCTTCAGTCTCCTGGGAAGCTGTGCCTGTCTGGCTC\n",
    "TGGCACTGACCACATCCTCTCGGCCATTTCTGAAGTGCACTCCTCCCAGCCCAGCTCCAGAATGGCCCTG\n",
    "CCCCCCAGCCCCCTGGCCATGGAATATGTCAATGACTTTGACTTGATGAAGTTTGAGGTAAAGCGGGAAC\n",
    "CCTCTGAGGGCCGACCTGGCCCCCCTACAGCCTCACTGGGCTCCACACCTTACAGCTCAGTGCCTCCTTC\n",
    "ACCCACCTTCAGTGAACCAGGCATGGTGGGGGCAACCGAGGGCACCCGGCCAGGCCTGGAGGAGCTGTAC\n",
    "TGGCTGGCTACCCTGCAGCAGCAGCTGGGGGCTGGGGAGGCATTGGGGCTGAGTCCTGAAGAGGCCATGG\n",
    "AGCTGCTGCAGGGTCAGGGCCCAGTCCCTGTTGATGGGCCCCATGGCTACTACCCAGGGAGCCCAGAGGA\n",
    "GACAGGAGCCCAGCACGTCCAGCTGGCAGAGCGGTTTTCCGACGCGGCGCTGGTCTCGATGTCTGTGCGG\n",
    "GAGCTAAACCGGCAGCTGCGGGGCTGCGGGCGCGACGAGGCGCTGCGGCTGAAGCAGAGGCGCCGCACGC\n",
    "TGAAGAACCGCGGCTACGCGCAGGCCTGTCGCTCCAAGCGGCTGCAGCAGCGGCGCGGGCTGGAGGCCGA\n",
    "GCGCGCCCGCCTGGCCGCCCAGCTGGACGCGCTGCGGGCCGAGGTGGCCCGCCTGGCCCGGGAGCGCGAT\n",
    "CTCTACAAGGCTCGCTGTGACCGGCTAACCTCGAGCGGCCCCGGGTCCGGGGACCCCTCCCACCTCTTCC\n",
    "TCTGAGCCGTTCAGAGCACCTTGTGGTGTAGTGGGGGCTGGGTGGGGTGGCTCCGCCCAGGAGGCGGCTG\n",
    "CACGGTTCTCTGCATCGTTACCAGAGCGCCTTCTGGTCCTAGCCACGCCCTGTATGACCGCGCAAATATC\n",
    "CCCAAAGCTTTTGGGTCCTCAAGTCATGCCCGAATTTAGATGCTGGTCATTTTCTGGAGAGGGGTCCCCT\n",
    "CCCCTTACGAACACAGAAACCCAGCCCACATGACTAGCACGCTGAGCTCTGCAGGGACCAGTGCCAGGCA\n",
    "CTGGGGGGTGGAAGTGTGGTGACACAGTGAATGGGAGGTGGAGGAGGGTTGCAGCTCCCACCTCAGTTTA\n",
    "GTTTTTAATTCAGGGTTTTCAACCTGTAACACATTAAAGCTGTAATTAGCAATGAGGCTGTATTTTCATT\n",
    "CTGAAGCTTGTAACCTCCCCATTTTAGCACTACAGAATTTTCAAGATTTCAATATCCAACAACTAGATAG\n",
    "ATTAGGACCTCTATCCGAGATGCTTTTTCCCTGCCCAACCCTGTGGCCTTCAGGGCTCAGAGCAGCAAAG\n",
    "GCCTGAAGAGTGAGCTCTGGGGGTTGTTGGTGTGGGTTGGGAGAGAGCTGTGTGCAGAAGTCTGGAAACC\n",
    "TGGGTCCTAGTCCCAGCTCTTCCATGGGATCCCCCTGTCACCCTGAGCAAATCAGTTGCTTCCTGGACTT\n",
    "GTGTTACTTCATCTAATTCTCATGTGGATTGGACGACTTCTGCTCCCTTTCCAGTTCTGGCATCTCCCCA\n",
    "GTATGGAAGTCCCGGTGGTCTCCCCAAGAAGTCCCCAAGACAATCTCGCCAAAGGCACCTCCTATCCTGC\n",
    "TGCAGTTTCCCAGCTGCAGCCTAGGCAGGGGATGCACAGCCCAGGCGAGGAAGCCTGGCTTCTCTGTGAG\n",
    "CACATACGTGGGTCCTCGGCAGCTCCCTCCAGGCTGTCTGGGCCTCCAGACCTGCACAGGGTGCTCCTGC\n",
    "CACCTCCCACCTCTCTGAGGGCTGAGGTGAGACTTCTCCTGGGATGACAATTTGCTGAGAGAGTGCAGCT\n",
    "TTTGTGAATTAAACTTGAAGTCCAGGCAGAATTCTAATGCAATAAGCTAAATGTTCTTGCAATTTAAGAA\n",
    "GTGTTCATTCTTTATCCCTGCTTCAGGCTACTGTTTGTGTGTCTGTGTGTGGGAGAGGGAGAGAGAGGGA\n",
    "GAGAGAGAGAGAGCAAGAAAAAGGGAAGTCCCCACCTGGAGCTGGGTGGCACATCTGTTATGGAGAGCCA\n",
    "ATGGAAATGGGGTGGAGGGGCAGGCATTGGAACAGATGGATCCTCCCCCTCTCACCACCACCACCACCAA\n",
    "ACTCAGAAGCCTCAGTGGCCCAGCTCGGCCTGTCAGTGGCTATCCAGGTCTCACAGTTTCCATGGTAACC\n",
    "CAGTCCTCCAGTTCAGCAGGCTAAGGGGAGGGCAGATGGGGCCTCTGGGCAGAGCACAGGCGTTGTGCTG\n",
    "GGAGCAGCCGCCTCACGAGTTACTGTCATCTGTCCTCTACCGGACATAATAAATGGGAGAAGCTTTCGGG\n",
    "CATGGGGGAAGAGGCTCCCATATGTCCCTCTTCCTTTCTACCCCCTCTCTCCACCCCCTCCCCAGCTGTC\n",
    "TCTTCTCTTCCCATCACAGTTCTTGCTCCCTCTTTCCCCTCCTCTATCCCAGCTCATCCCTCCTCCGCTT\n",
    "AGGAGCCTGCAATGGGAGTCCTCTCCTCCATCGCTCTCAGAATTTCTCTCGTCTCCTCTCCCTTCCCCAC\n",
    "CATTGGCCACTGGCCATCCTCTCTGGCTCTGGATTCTCTCTCTGAGGGGCTCACAGAACCTTTAGCTTCT\n",
    "CTTTCTTCATCCCCTTCCACACTCATTGTTGAAGGGAGAGGATGGGGCAGGGAGGGTCCTTCCGGGAGCC\n",
    "CAGCTCTTTTTCTCTCACTCTAAATTTCACCTGTGTCTATCCTTGCCTGCCCTGGAGCTGTAATTCAGAC\n",
    "CCACTACTTTTCTTGTTCACTTTTCTCACCTGCATGGCACACAAAGACAGACAGAACCATCCATAGACAC\n",
    "CTGAGCACACAACTAGGCCACATATACAGTACCATACCTGGGTCTCAAAATGATACTCCTGGGTTACCTG\n",
    "AGTATACTTAAAAAAACAAAGTTGCACACTGTGGTGATTAAGAGTAGTGCTTTAGGTGGGGCGCAGTGGT\n",
    "TCCTGCCTGTAATCCCAACACTTTGGGAGGCCAAGGAGGAAGTTTGAGACCAGCCTGGGCAACATAGCGA\n",
    "GAACCCTGTCACTACAAAAAAATAAAATAAAATAAATTCAGATGTAATGGCATGCACCTGGAGTCCCACC\n",
    "TACCCAGGAGGCTAAGGTGGAAGGATAACTTGAGCCCAGGAGTTCGGGGATGCAGTGAGCCATAATCGTG\n",
    "CCACTGCATTCCAGCCTGGGTGGCAGAGTGAGACCCTGTTTCAAGTTGCAGTTCTACCAGTTTTTTGACC\n",
    "ATGGGTGGGTTAAAATCAAGCCTCACTTGATTGTCAGAAAAATGGTGAAAATAATGGTAACCACCTACTG\n",
    "AGAATAAATGCATTTAAATAA'''"
   ]
  },
  {
   "cell_type": "code",
   "execution_count": 135,
   "metadata": {},
   "outputs": [],
   "source": [
    "nrl = nrl.replace('\\n', '')"
   ]
  },
  {
   "cell_type": "code",
   "execution_count": 136,
   "metadata": {},
   "outputs": [
    {
     "data": {
      "text/plain": [
       "'AACCGCCCCACGCGAGACCACCCACCAGCCAGGAGCGGTCGCAGGACCCGCAGCGGCGCGAGGCCTTGTTTACACCGACTGCCGCCACTGCGTTGGCCAACCGCTCCTCCGTCACGCGCTTCGCTCGTCACGCATCTCGCGGCTTCCTGGCCGGCGGGCTGCAAACGTCACACGACGGCCCCGCCCCCTTGGCCAGCCAACTGGACAGCGGAGCACGATGATTGATAGGCCAATAAGATATGCAAATGATCTCCTTACCTTATTGGTTGGAGGCCTCAGGACCACAGATGACCTCAGAGAGCTGGCCCTTTAAGAATGCCCTTTGGGCTCTGTGCCCACAGCCCCCTGGAGCTGAGCAGAGGCACCAGGCCCTGCTCCATGGAGCCTTCAGTCTCCTGGGAAGCTGTGCCTGTCTGGCTCTGGCACTGACCACATCCTCTCGGCCATTTCTGAAGTGCACTCCTCCCAGCCCAGCTCCAGAATGGCCCTGCCCCCCAGCCCCCTGGCCATGGAATATGTCAATGACTTTGACTTGATGAAGTTTGAGGTAAAGCGGGAACCCTCTGAGGGCCGACCTGGCCCCCCTACAGCCTCACTGGGCTCCACACCTTACAGCTCAGTGCCTCCTTCACCCACCTTCAGTGAACCAGGCATGGTGGGGGCAACCGAGGGCACCCGGCCAGGCCTGGAGGAGCTGTACTGGCTGGCTACCCTGCAGCAGCAGCTGGGGGCTGGGGAGGCATTGGGGCTGAGTCCTGAAGAGGCCATGGAGCTGCTGCAGGGTCAGGGCCCAGTCCCTGTTGATGGGCCCCATGGCTACTACCCAGGGAGCCCAGAGGAGACAGGAGCCCAGCACGTCCAGCTGGCAGAGCGGTTTTCCGACGCGGCGCTGGTCTCGATGTCTGTGCGGGAGCTAAACCGGCAGCTGCGGGGCTGCGGGCGCGACGAGGCGCTGCGGCTGAAGCAGAGGCGCCGCACGCTGAAGAACCGCGGCTACGCGCAGGCCTGTCGCTCCAAGCGGCTGCAGCAGCGGCGCGGGCTGGAGGCCGAGCGCGCCCGCCTGGCCGCCCAGCTGGACGCGCTGCGGGCCGAGGTGGCCCGCCTGGCCCGGGAGCGCGATCTCTACAAGGCTCGCTGTGACCGGCTAACCTCGAGCGGCCCCGGGTCCGGGGACCCCTCCCACCTCTTCCTCTGAGCCGTTCAGAGCACCTTGTGGTGTAGTGGGGGCTGGGTGGGGTGGCTCCGCCCAGGAGGCGGCTGCACGGTTCTCTGCATCGTTACCAGAGCGCCTTCTGGTCCTAGCCACGCCCTGTATGACCGCGCAAATATCCCCAAAGCTTTTGGGTCCTCAAGTCATGCCCGAATTTAGATGCTGGTCATTTTCTGGAGAGGGGTCCCCTCCCCTTACGAACACAGAAACCCAGCCCACATGACTAGCACGCTGAGCTCTGCAGGGACCAGTGCCAGGCACTGGGGGGTGGAAGTGTGGTGACACAGTGAATGGGAGGTGGAGGAGGGTTGCAGCTCCCACCTCAGTTTAGTTTTTAATTCAGGGTTTTCAACCTGTAACACATTAAAGCTGTAATTAGCAATGAGGCTGTATTTTCATTCTGAAGCTTGTAACCTCCCCATTTTAGCACTACAGAATTTTCAAGATTTCAATATCCAACAACTAGATAGATTAGGACCTCTATCCGAGATGCTTTTTCCCTGCCCAACCCTGTGGCCTTCAGGGCTCAGAGCAGCAAAGGCCTGAAGAGTGAGCTCTGGGGGTTGTTGGTGTGGGTTGGGAGAGAGCTGTGTGCAGAAGTCTGGAAACCTGGGTCCTAGTCCCAGCTCTTCCATGGGATCCCCCTGTCACCCTGAGCAAATCAGTTGCTTCCTGGACTTGTGTTACTTCATCTAATTCTCATGTGGATTGGACGACTTCTGCTCCCTTTCCAGTTCTGGCATCTCCCCAGTATGGAAGTCCCGGTGGTCTCCCCAAGAAGTCCCCAAGACAATCTCGCCAAAGGCACCTCCTATCCTGCTGCAGTTTCCCAGCTGCAGCCTAGGCAGGGGATGCACAGCCCAGGCGAGGAAGCCTGGCTTCTCTGTGAGCACATACGTGGGTCCTCGGCAGCTCCCTCCAGGCTGTCTGGGCCTCCAGACCTGCACAGGGTGCTCCTGCCACCTCCCACCTCTCTGAGGGCTGAGGTGAGACTTCTCCTGGGATGACAATTTGCTGAGAGAGTGCAGCTTTTGTGAATTAAACTTGAAGTCCAGGCAGAATTCTAATGCAATAAGCTAAATGTTCTTGCAATTTAAGAAGTGTTCATTCTTTATCCCTGCTTCAGGCTACTGTTTGTGTGTCTGTGTGTGGGAGAGGGAGAGAGAGGGAGAGAGAGAGAGAGCAAGAAAAAGGGAAGTCCCCACCTGGAGCTGGGTGGCACATCTGTTATGGAGAGCCAATGGAAATGGGGTGGAGGGGCAGGCATTGGAACAGATGGATCCTCCCCCTCTCACCACCACCACCACCAAACTCAGAAGCCTCAGTGGCCCAGCTCGGCCTGTCAGTGGCTATCCAGGTCTCACAGTTTCCATGGTAACCCAGTCCTCCAGTTCAGCAGGCTAAGGGGAGGGCAGATGGGGCCTCTGGGCAGAGCACAGGCGTTGTGCTGGGAGCAGCCGCCTCACGAGTTACTGTCATCTGTCCTCTACCGGACATAATAAATGGGAGAAGCTTTCGGGCATGGGGGAAGAGGCTCCCATATGTCCCTCTTCCTTTCTACCCCCTCTCTCCACCCCCTCCCCAGCTGTCTCTTCTCTTCCCATCACAGTTCTTGCTCCCTCTTTCCCCTCCTCTATCCCAGCTCATCCCTCCTCCGCTTAGGAGCCTGCAATGGGAGTCCTCTCCTCCATCGCTCTCAGAATTTCTCTCGTCTCCTCTCCCTTCCCCACCATTGGCCACTGGCCATCCTCTCTGGCTCTGGATTCTCTCTCTGAGGGGCTCACAGAACCTTTAGCTTCTCTTTCTTCATCCCCTTCCACACTCATTGTTGAAGGGAGAGGATGGGGCAGGGAGGGTCCTTCCGGGAGCCCAGCTCTTTTTCTCTCACTCTAAATTTCACCTGTGTCTATCCTTGCCTGCCCTGGAGCTGTAATTCAGACCCACTACTTTTCTTGTTCACTTTTCTCACCTGCATGGCACACAAAGACAGACAGAACCATCCATAGACACCTGAGCACACAACTAGGCCACATATACAGTACCATACCTGGGTCTCAAAATGATACTCCTGGGTTACCTGAGTATACTTAAAAAAACAAAGTTGCACACTGTGGTGATTAAGAGTAGTGCTTTAGGTGGGGCGCAGTGGTTCCTGCCTGTAATCCCAACACTTTGGGAGGCCAAGGAGGAAGTTTGAGACCAGCCTGGGCAACATAGCGAGAACCCTGTCACTACAAAAAAATAAAATAAAATAAATTCAGATGTAATGGCATGCACCTGGAGTCCCACCTACCCAGGAGGCTAAGGTGGAAGGATAACTTGAGCCCAGGAGTTCGGGGATGCAGTGAGCCATAATCGTGCCACTGCATTCCAGCCTGGGTGGCAGAGTGAGACCCTGTTTCAAGTTGCAGTTCTACCAGTTTTTTGACCATGGGTGGGTTAAAATCAAGCCTCACTTGATTGTCAGAAAAATGGTGAAAATAATGGTAACCACCTACTGAGAATAAATGCATTTAAATAA'"
      ]
     },
     "execution_count": 136,
     "metadata": {},
     "output_type": "execute_result"
    }
   ],
   "source": [
    "nrl\n"
   ]
  },
  {
   "cell_type": "code",
   "execution_count": 137,
   "metadata": {},
   "outputs": [
    {
     "name": "stdout",
     "output_type": "stream",
     "text": [
      "314\n",
      "2275\n"
     ]
    }
   ],
   "source": [
    "seq = 'AATGC'\n",
    "print(nrl.find(seq))\n",
    "local = nrl.find(seq)\n",
    "nlocal = nrl[local+1:].find(seq)\n",
    "print((local + 1) + nlocal)"
   ]
  },
  {
   "cell_type": "code",
   "execution_count": 129,
   "metadata": {},
   "outputs": [
    {
     "name": "stdout",
     "output_type": "stream",
     "text": [
      ">NM_006177.5 Homo sapiens neural retina leucine zipper (NRL), transcript variant 1, mRNA\n"
     ]
    },
    {
     "data": {
      "text/plain": [
       "'AACCGCCCCACGCGAGACCACCCACCAGCCAGGAGCGGTCGCAGGACCCGCAGCGGCGCGAGGCCTTGTTTACACCGACTGCCGCCACTGCGTTGGCCAACCGCTCCTCCGTCACGCGCTTCGCTCGTCACGCATCTCGCGGCTTCCTGGCCGGCGGGCTGCAAACGTCACACGACGGCCCCGCCCCCTTGGCCAGCCAACTGGACAGCGGAGCACGATGATTGATAGGCCAATAAGATATGCAAATGATCTCCTTACCTTATTGGTTGGAGGCCTCAGGACCACAGATGACCTCAGAGAGCTGGCCCTTTAAGAATGCCCTTTGGGCTCTGTGCCCACAGCCCCCTGGAGCTGAGCAGAGGCACCAGGCCCTGCTCCATGGAGCCTTCAGTCTCCTGGGAAGCTGTGCCTGTCTGGCTCTGGCACTGACCACATCCTCTCGGCCATTTCTGAAGTGCACTCCTCCCAGCCCAGCTCCAGAATGGCCCTGCCCCCCAGCCCCCTGGCCATGGAATATGTCAATGACTTTGACTTGATGAAGTTTGAGGTAAAGCGGGAACCCTCTGAGGGCCGACCTGGCCCCCCTACAGCCTCACTGGGCTCCACACCTTACAGCTCAGTGCCTCCTTCACCCACCTTCAGTGAACCAGGCATGGTGGGGGCAACCGAGGGCACCCGGCCAGGCCTGGAGGAGCTGTACTGGCTGGCTACCCTGCAGCAGCAGCTGGGGGCTGGGGAGGCATTGGGGCTGAGTCCTGAAGAGGCCATGGAGCTGCTGCAGGGTCAGGGCCCAGTCCCTGTTGATGGGCCCCATGGCTACTACCCAGGGAGCCCAGAGGAGACAGGAGCCCAGCACGTCCAGCTGGCAGAGCGGTTTTCCGACGCGGCGCTGGTCTCGATGTCTGTGCGGGAGCTAAACCGGCAGCTGCGGGGCTGCGGGCGCGACGAGGCGCTGCGGCTGAAGCAGAGGCGCCGCACGCTGAAGAACCGCGGCTACGCGCAGGCCTGTCGCTCCAAGCGGCTGCAGCAGCGGCGCGGGCTGGAGGCCGAGCGCGCCCGCCTGGCCGCCCAGCTGGACGCGCTGCGGGCCGAGGTGGCCCGCCTGGCCCGGGAGCGCGATCTCTACAAGGCTCGCTGTGACCGGCTAACCTCGAGCGGCCCCGGGTCCGGGGACCCCTCCCACCTCTTCCTCTGAGCCGTTCAGAGCACCTTGTGGTGTAGTGGGGGCTGGGTGGGGTGGCTCCGCCCAGGAGGCGGCTGCACGGTTCTCTGCATCGTTACCAGAGCGCCTTCTGGTCCTAGCCACGCCCTGTATGACCGCGCAAATATCCCCAAAGCTTTTGGGTCCTCAAGTCATGCCCGAATTTAGATGCTGGTCATTTTCTGGAGAGGGGTCCCCTCCCCTTACGAACACAGAAACCCAGCCCACATGACTAGCACGCTGAGCTCTGCAGGGACCAGTGCCAGGCACTGGGGGGTGGAAGTGTGGTGACACAGTGAATGGGAGGTGGAGGAGGGTTGCAGCTCCCACCTCAGTTTAGTTTTTAATTCAGGGTTTTCAACCTGTAACACATTAAAGCTGTAATTAGCAATGAGGCTGTATTTTCATTCTGAAGCTTGTAACCTCCCCATTTTAGCACTACAGAATTTTCAAGATTTCAATATCCAACAACTAGATAGATTAGGACCTCTATCCGAGATGCTTTTTCCCTGCCCAACCCTGTGGCCTTCAGGGCTCAGAGCAGCAAAGGCCTGAAGAGTGAGCTCTGGGGGTTGTTGGTGTGGGTTGGGAGAGAGCTGTGTGCAGAAGTCTGGAAACCTGGGTCCTAGTCCCAGCTCTTCCATGGGATCCCCCTGTCACCCTGAGCAAATCAGTTGCTTCCTGGACTTGTGTTACTTCATCTAATTCTCATGTGGATTGGACGACTTCTGCTCCCTTTCCAGTTCTGGCATCTCCCCAGTATGGAAGTCCCGGTGGTCTCCCCAAGAAGTCCCCAAGACAATCTCGCCAAAGGCACCTCCTATCCTGCTGCAGTTTCCCAGCTGCAGCCTAGGCAGGGGATGCACAGCCCAGGCGAGGAAGCCTGGCTTCTCTGTGAGCACATACGTGGGTCCTCGGCAGCTCCCTCCAGGCTGTCTGGGCCTCCAGACCTGCACAGGGTGCTCCTGCCACCTCCCACCTCTCTGAGGGCTGAGGTGAGACTTCTCCTGGGATGACAATTTGCTGAGAGAGTGCAGCTTTTGTGAATTAAACTTGAAGTCCAGGCAGAATTCTAATGCAATAAGCTAAATGTTCTTGCAATTTAAGAAGTGTTCATTCTTTATCCCTGCTTCAGGCTACTGTTTGTGTGTCTGTGTGTGGGAGAGGGAGAGAGAGGGAGAGAGAGAGAGAGCAAGAAAAAGGGAAGTCCCCACCTGGAGCTGGGTGGCACATCTGTTATGGAGAGCCAATGGAAATGGGGTGGAGGGGCAGGCATTGGAACAGATGGATCCTCCCCCTCTCACCACCACCACCACCAAACTCAGAAGCCTCAGTGGCCCAGCTCGGCCTGTCAGTGGCTATCCAGGTCTCACAGTTTCCATGGTAACCCAGTCCTCCAGTTCAGCAGGCTAAGGGGAGGGCAGATGGGGCCTCTGGGCAGAGCACAGGCGTTGTGCTGGGAGCAGCCGCCTCACGAGTTACTGTCATCTGTCCTCTACCGGACATAATAAATGGGAGAAGCTTTCGGGCATGGGGGAAGAGGCTCCCATATGTCCCTCTTCCTTTCTACCCCCTCTCTCCACCCCCTCCCCAGCTGTCTCTTCTCTTCCCATCACAGTTCTTGCTCCCTCTTTCCCCTCCTCTATCCCAGCTCATCCCTCCTCCGCTTAGGAGCCTGCAATGGGAGTCCTCTCCTCCATCGCTCTCAGAATTTCTCTCGTCTCCTCTCCCTTCCCCACCATTGGCCACTGGCCATCCTCTCTGGCTCTGGATTCTCTCTCTGAGGGGCTCACAGAACCTTTAGCTTCTCTTTCTTCATCCCCTTCCACACTCATTGTTGAAGGGAGAGGATGGGGCAGGGAGGGTCCTTCCGGGAGCCCAGCTCTTTTTCTCTCACTCTAAATTTCACCTGTGTCTATCCTTGCCTGCCCTGGAGCTGTAATTCAGACCCACTACTTTTCTTGTTCACTTTTCTCACCTGCATGGCACACAAAGACAGACAGAACCATCCATAGACACCTGAGCACACAACTAGGCCACATATACAGTACCATACCTGGGTCTCAAAATGATACTCCTGGGTTACCTGAGTATACTTAAAAAAACAAAGTTGCACACTGTGGTGATTAAGAGTAGTGCTTTAGGTGGGGCGCAGTGGTTCCTGCCTGTAATCCCAACACTTTGGGAGGCCAAGGAGGAAGTTTGAGACCAGCCTGGGCAACATAGCGAGAACCCTGTCACTACAAAAAAATAAAATAAAATAAATTCAGATGTAATGGCATGCACCTGGAGTCCCACCTACCCAGGAGGCTAAGGTGGAAGGATAACTTGAGCCCAGGAGTTCGGGGATGCAGTGAGCCATAATCGTGCCACTGCATTCCAGCCTGGGTGGCAGAGTGAGACCCTGTTTCAAGTTGCAGTTCTACCAGTTTTTTGACCATGGGTGGGTTAAAATCAAGCCTCACTTGATTGTCAGAAAAATGGTGAAAATAATGGTAACCACCTACTGAGAATAAATGCATTTAAATAA'"
      ]
     },
     "execution_count": 129,
     "metadata": {},
     "output_type": "execute_result"
    }
   ],
   "source": [
    "j0k = 'dados/3j0k.fasta.txt'\n",
    "ore = 'dados/1ore.fasta.txt'\n",
    "nrl = 'dados/NM_006177.5.fasta'\n",
    "arq = open(nrl, mode='r')\n",
    "dados = arq.read().splitlines()\n",
    "# dados = arq.read()\n",
    "dados\n",
    "len(dados)\n",
    "seq2 = ''\n",
    "for i in range(len(dados)):\n",
    "    if i >0:\n",
    "        seq2 = seq2 + dados[i]\n",
    "\n",
    "print(dados[0])\n",
    "seq2"
   ]
  },
  {
   "cell_type": "code",
   "execution_count": 131,
   "metadata": {},
   "outputs": [
    {
     "name": "stdout",
     "output_type": "stream",
     "text": [
      "314\n",
      "2275\n"
     ]
    }
   ],
   "source": [
    "seq = 'AATGC'\n",
    "print(seq2.find(seq))\n",
    "local = seq2.find(seq)\n",
    "nlocal = seq2[local+1:].find(seq)\n",
    "print((local + 1) + nlocal)"
   ]
  },
  {
   "cell_type": "code",
   "execution_count": 139,
   "metadata": {},
   "outputs": [
    {
     "name": "stdout",
     "output_type": "stream",
     "text": [
      "LOCUS       EU490717                1536 bp    DNA     linear   PLN 26-JUL-2016\n",
      "DEFINITION  Ancistrochilus rothschildianus hypothetical protein Ycf1 (ycf1)\n",
      "            gene, partial cds; chloroplast.\n",
      "ACCESSION   EU490717\n",
      "VERSION     EU490717.1\n",
      "KEYWORDS    .\n",
      "SOURCE      chloroplast Ancistrochilus rothschildianus\n",
      "  ORGANISM  Ancistrochilus rothschildianus\n",
      "            Eukaryota; Viridiplantae; Streptophyta; Embryophyta; Tracheophyta;\n",
      "            Spermatophyta; Magnoliophyta; Liliopsida; Asparagales; Orchidaceae;\n",
      "            Epidendroideae; Collabieae; Ancistrochilus.\n",
      "REFERENCE   1  (bases 1 to 1536)\n",
      "  AUTHORS   Neubig,K.M., Whitten,W.M., Carlsward,B.S., Blanco,M.A., Endara,L.,\n",
      "            Williams,N.H. and Moore,M.\n",
      "  TITLE     Phylogenetic utility of ycf1 in orchids: a plastid gene more\n",
      "            variable than matK\n",
      "  JOURNAL   Plant Syst. Evol. 277 (1-2), 75-84 (2009)\n",
      "REFERENCE   2  (bases 1 to 1536)\n",
      "  AUTHORS   Neubig,K.M., Whitten,W.M., Carlsward,B.S., Blanco,M.A.,\n",
      "            Endara,C.L., Williams,N.H. and Moore,M.J.\n",
      "  TITLE     Direct Submission\n",
      "  JOURNAL   Submitted (14-FEB-2008) Department of Botany, University of\n",
      "            Florida, 220 Bartram Hall, Gainesville, FL 32611-8526, USA\n",
      "FEATURES             Location/Qualifiers\n",
      "     source          1..1536\n",
      "                     /organism=\"Ancistrochilus rothschildianus\"\n",
      "                     /organelle=\"plastid:chloroplast\"\n",
      "                     /mol_type=\"genomic DNA\"\n",
      "                     /specimen_voucher=\"FLAS:Whitten 2847\"\n",
      "                     /db_xref=\"taxon:159933\"\n",
      "     gene            <1..>1536\n",
      "                     /gene=\"ycf1\"\n",
      "     CDS             <1..>1536\n",
      "                     /gene=\"ycf1\"\n",
      "                     /codon_start=1\n",
      "                     /transl_table=11\n",
      "                     /product=\"hypothetical protein Ycf1\"\n",
      "                     /protein_id=\"ACD03041.1\"\n",
      "                     /translation=\"LSQKKRSRLVPKELRNRINKHCMIQNKESNQLDLYKKDQFIDSM\n",
      "                     NKNDYAANFFMSQKDKWKKNYRYDLFSYKYINLPNLYISGSTLKRNGDQEIPYHFNTS\n",
      "                     KPESFYVLVSIPSNDYLEKEYLIDRNTNDKNINLDRKYFDCRTLHLCFINNIYIWTDV\n",
      "                     HIGIKIQKNTKTKIKNLKKMEKKDLFFPKIYQETKPCNQKSFFFDCMGMNKERLYDTA\n",
      "                     SNHDTISNLETWFFPEFVLLFDVYKIKPWIIPIKSLFFHFSRNEKINVNPKKSSNKKK\n",
      "                     DIEEYYARLERKKKQYKSNNEMELNFFLKKYLLFQLRWADSLNKKILKNIRIFCFLFK\n",
      "                     LRNPKEIAISSIQRGEINIDEMLIQRDLVLAELIRKGIFIIEPICLSIRRDAKSIIYQ\n",
      "                     TMDISLVDNKKHQTNKKYTKKRYIDKREFEKPIARHSNIFLSGDKNHYDLLVPENILS\n",
      "                     PRRRREFRIRICFNSQNLNVVDRNPRFGNENKIRNCGLFLNEDKHINTDRKNLIKFKL\n",
      "                     FLWP\"\n",
      "ORIGIN      \n",
      "        1 ttatctcaaa aaaaaagatc tcgattagta cctaaagaat tgcgaaatag aatcaataaa\n",
      "       61 cattgtatga ttcaaaacaa ggaatcaaac caattggatt tatataaaaa agaccaattc\n",
      "      121 attgattcca tgaataaaaa tgactatgca gcaaatttct ttatgagtca aaaagacaaa\n",
      "      181 tggaaaaaaa attacagata tgatcttttc tcatataaat acataaacct ccctaattta\n",
      "      241 tacatttctg gatcaacatt aaaaagaaat ggggaccaag aaattccata tcatttcaat\n",
      "      301 acatcgaaac ctgaatcatt ttatgtattg gtaagtatac ctagtaatga ttatctagaa\n",
      "      361 aaagaatatc ttattgatag gaatacaaat gataagaata taaatttaga tagaaaatat\n",
      "      421 tttgattgta gaactcttca tctttgtttt ataaataata tttatatctg gaccgatgta\n",
      "      481 catattggca tcaagattca gaaaaatact aagactaaaa ttaagaattt aaaaaaaatg\n",
      "      541 gaaaaaaaag atcttttttt tcctaaaatt tatcaagaga ccaaaccatg caatcaaaaa\n",
      "      601 agtttctttt ttgattgcat gggaatgaat aaagaaaggt tatatgatac cgcatcaaat\n",
      "      661 catgatacta tatccaatct agaaacttgg ttcttcccag aatttgtgct actttttgat\n",
      "      721 gtatataaaa ttaaaccttg gatcatccca atcaaatcac tcttttttca tttttctaga\n",
      "      781 aatgaaaaaa ttaacgtaaa tccaaaaaaa tcatctaata aaaaaaaaga tattgaagaa\n",
      "      841 tattacgcaa gattagaaag aaaaaaaaaa caatataaga gcaataatga aatggaacta\n",
      "      901 aatttctttt tgaaaaaata tttacttttt caactaagat gggctgattc cttaaataag\n",
      "      961 aaaatactga aaaatatcag aatattttgt ttcctattta aactgagaaa tccaaaggaa\n",
      "     1021 attgctatat cctcgattca aagaggtgaa ataaatatag acgaaatgct gattcaaagg\n",
      "     1081 gacctagttc ttgcagaatt gataagaaag ggaatattta ttattgaacc aatttgttta\n",
      "     1141 tctatacgaa gggacgcaaa atctattata tatcaaacta tggatatttc attggttgat\n",
      "     1201 aataagaagc accaaacaaa taaaaaatac acaaaaaaaa gatatattga taaaagggag\n",
      "     1261 tttgaaaaac ccattgcacg acacagcaac atatttttga gtggagacaa aaatcattat\n",
      "     1321 gatttacttg ttcctgaaaa tattctatct cccagacgtc gtagagaatt tcgaattcga\n",
      "     1381 atttgtttca attcccagaa tttgaatgtt gtggatagaa atccaagatt tggcaatgaa\n",
      "     1441 aacaaaataa gaaactgtgg gctatttttg aatgaagaca aacatattaa tacagataga\n",
      "     1501 aaaaatctca ttaaattcaa attgtttctt tggccc\n",
      "//\n",
      "\n",
      "\n"
     ]
    }
   ],
   "source": [
    "from Bio import Entrez\n",
    "Entrez.email = \"A.N.Other@example.com\"  # Always tell NCBI who you are\n",
    "handle = Entrez.efetch(db=\"nucleotide\", id=\"EU490717\", rettype=\"gb\", retmode=\"text\")\n",
    "print(handle.read())"
   ]
  },
  {
   "cell_type": "code",
   "execution_count": 140,
   "metadata": {},
   "outputs": [
    {
     "name": "stdout",
     "output_type": "stream",
     "text": [
      "        0      1      2      3      4\n",
      "A:   3.00   6.00   0.00   1.00   1.00\n",
      "C:   0.00   0.00   4.00   3.00   6.00\n",
      "G:   0.00   0.00   1.00   3.00   0.00\n",
      "T:   4.00   1.00   2.00   0.00   0.00\n",
      "\n"
     ]
    }
   ],
   "source": [
    "from Bio.Seq import Seq\n",
    "from Bio import motifs\n",
    "instances = [Seq(\"TTGCA\"),\n",
    "             Seq(\"TACGC\"),\n",
    "             Seq(\"TACAC\"),\n",
    "             Seq(\"TACCC\"),\n",
    "             Seq(\"AACCC\"),\n",
    "             Seq(\"AATGC\"),\n",
    "             Seq(\"AATGC\")]\n",
    "m = motifs.create(instances)\n",
    "print(m.counts)"
   ]
  },
  {
   "cell_type": "code",
   "execution_count": null,
   "metadata": {},
   "outputs": [],
   "source": []
  }
 ],
 "metadata": {
  "kernelspec": {
   "display_name": "Python 3",
   "language": "python",
   "name": "python3"
  },
  "language_info": {
   "codemirror_mode": {
    "name": "ipython",
    "version": 3
   },
   "file_extension": ".py",
   "mimetype": "text/x-python",
   "name": "python",
   "nbconvert_exporter": "python",
   "pygments_lexer": "ipython3",
   "version": "3.7.3"
  }
 },
 "nbformat": 4,
 "nbformat_minor": 4
}
